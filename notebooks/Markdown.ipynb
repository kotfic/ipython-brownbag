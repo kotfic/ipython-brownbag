{
 "metadata": {
  "name": "",
  "signature": "sha256:d18fa5453108ac81ffd61bbc754949b2ec5d1e3c504b6dbe757dcd950cf666b0"
 },
 "nbformat": 3,
 "nbformat_minor": 0,
 "worksheets": [
  {
   "cells": [
    {
     "cell_type": "code",
     "collapsed": false,
     "input": [
      "from IPython.display import HTML\n",
      "from bs4 import BeautifulSoup\n",
      "import requests"
     ],
     "language": "python",
     "metadata": {},
     "outputs": []
    },
    {
     "cell_type": "markdown",
     "metadata": {},
     "source": [
      "## Markdown\n",
      "\n",
      "Wikipedia has a great article on markdown that contains a lot of information on how it is used.  Markdown has seen quite a bit of use in different contexts in the last 5 to 10 years and is sort of a 'basic skill' for online citizenship. Good typography online is a really key component for effectively communicating and presenting ones-self online.  Markdown makes using the most common typographic idioms like headings,  emphasis, and lists extreamly easy to produce using simple plain text.\n",
      "\n",
      "[Link to Wiki Article](http://en.wikipedia.org/wiki/Markdown)\n",
      "\n",
      "## Can be easily mixed with Python code that explains what is going on \n",
      "Here we grab the table from the [Wikipedia](www.wikipedia.org) article on Markdown by:\n",
      "\n",
      "1. Using requests to make an [HTTP](http://en.wikipedia.org/wiki/Hypertext_Transfer_Protocol) request to the wiki page and saving it in the variable ```r```\n",
      "2. Get the text of the HTTP response from the ```r``` variable by accessing ```r.text```\n",
      "3. And converting it into a structured representation of the HTML. The ```soup``` variable is now similar to a [Document Object Model](http://en.wikipedia.org/wiki/Document_Object_Model)\n",
      "4. using the ```find()``` method we pull the table that we want out of the soup object\n",
      "5. We then use IPython's rich display system to display the HTML directly on the page"
     ]
    },
    {
     "cell_type": "code",
     "collapsed": false,
     "input": [
      "r = requests.get(\"http://en.wikipedia.org/wiki/Markdown\")\n",
      "soup = BeautifulSoup(r.text)\n",
      "\n",
      "HTML(str(soup.find(\"table\", class_=\"wikitable\")))"
     ],
     "language": "python",
     "metadata": {},
     "outputs": []
    },
    {
     "cell_type": "markdown",
     "metadata": {},
     "source": [
      "## Speaking of Rich Display...\n",
      "\n",
      "[IPython's Rich display functionality](http://nbviewer.ipython.org/github/AJRenold/ipython/blob/1.x/examples/notebooks/Part%205%20-%20Rich%20Display%20System.ipynb)"
     ]
    }
   ],
   "metadata": {}
  }
 ]
}