{
 "metadata": {
  "name": "",
  "signature": "sha256:c7131f5ce889091ed2e0312b4d06e743ca0b660b0a7094fc76133ccbb05d7d2a"
 },
 "nbformat": 3,
 "nbformat_minor": 0,
 "worksheets": [
  {
   "cells": [
    {
     "cell_type": "code",
     "collapsed": false,
     "input": [
      "import requests\n",
      "import pandas as pd"
     ],
     "language": "python",
     "metadata": {},
     "outputs": []
    },
    {
     "cell_type": "code",
     "collapsed": false,
     "input": [
      "r = requests.get(\"https://data.ny.gov/resource/5xaw-6ayf.json?$offset=0&$limit=1500\")"
     ],
     "language": "python",
     "metadata": {},
     "outputs": []
    },
    {
     "cell_type": "code",
     "collapsed": false,
     "input": [
      "df = pd.DataFrame(r.json()).fillna(0)"
     ],
     "language": "python",
     "metadata": {},
     "outputs": []
    },
    {
     "cell_type": "code",
     "collapsed": false,
     "input": [
      "pos_df = pd.DataFrame([(date, pos, n) for date, nums in df[['draw_date', 'winning_numbers']].values  \n",
      "                    for pos, n in enumerate(nums.split(\" \"))], \n",
      "                      columns=[\"Date\", \"Position\", \"Number\"]).set_index(\"Date\")\n"
     ],
     "language": "python",
     "metadata": {},
     "outputs": []
    },
    {
     "cell_type": "code",
     "collapsed": false,
     "input": [
      "numbers = pos_df.groupby([\"Position\", \"Number\"]).size().to_frame(\"Count\")"
     ],
     "language": "python",
     "metadata": {},
     "outputs": []
    },
    {
     "cell_type": "code",
     "collapsed": false,
     "input": [
      "numbers.reset_index().groupby(\"Position\").max()"
     ],
     "language": "python",
     "metadata": {},
     "outputs": []
    }
   ],
   "metadata": {}
  }
 ]
}