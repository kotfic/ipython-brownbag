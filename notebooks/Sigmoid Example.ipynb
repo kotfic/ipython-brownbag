{
 "metadata": {
  "name": "",
  "signature": "sha256:0c0d334c08d1f0f8e2790ff9d3ac54e5ef08890b2b53f4b62c6e280426771dcc"
 },
 "nbformat": 3,
 "nbformat_minor": 0,
 "worksheets": [
  {
   "cells": [
    {
     "cell_type": "code",
     "collapsed": false,
     "input": [
      "%load_ext autoreload\n",
      "%autoreload 2\n",
      "%matplotlib inline"
     ],
     "language": "python",
     "metadata": {},
     "outputs": [],
     "prompt_number": 1
    },
    {
     "cell_type": "code",
     "collapsed": false,
     "input": [
      "from IPython.html.widgets import interact\n",
      "from matplotlib import pylab as plt\n",
      "import matplotlib as mpl\n",
      "import numpy as np\n",
      "mpl.rcParams['figure.figsize'] = (16, 6)"
     ],
     "language": "python",
     "metadata": {},
     "outputs": [],
     "prompt_number": 2
    },
    {
     "cell_type": "code",
     "collapsed": false,
     "input": [
      "def sigmoid(*theta):\n",
      "    # Convert to column vector\n",
      "    theta = np.array(theta).reshape(len(theta), 1)\n",
      "    \n",
      "    def _sigmoid(x):\n",
      "        # Add 'constant' intercept vector\n",
      "        X = np.hstack([np.ones(x.shape[0]).reshape(x.shape[0], 1), x])\n",
      "        \n",
      "        return 1. /( 1. + np.exp(-1 * (X.dot(theta))) )\n",
      "    return _sigmoid"
     ],
     "language": "python",
     "metadata": {},
     "outputs": [],
     "prompt_number": 3
    },
    {
     "cell_type": "code",
     "collapsed": false,
     "input": [
      "def interactive_sigmoid(intercept=1, slope=1):\n",
      "    h = sigmoid(intercept, slope)\n",
      "    x = np.linspace(-15, 15, 100).reshape(100, 1)\n",
      "    y = h(x)\n",
      "    plt.plot(x, y)"
     ],
     "language": "python",
     "metadata": {},
     "outputs": [],
     "prompt_number": 4
    },
    {
     "cell_type": "code",
     "collapsed": false,
     "input": [
      "interact(interactive_sigmoid, intercept=(-15., 15., 0.1), slope=(-3., 3., 0.1))"
     ],
     "language": "python",
     "metadata": {},
     "outputs": [
      {
       "metadata": {},
       "output_type": "display_data",
       "png": "[encoded data removed]",
       "text": [
        "<matplotlib.figure.Figure at 0x7fcefcc14410>"
       ]
      }
     ],
     "prompt_number": 5
    },
    {
     "cell_type": "code",
     "collapsed": false,
     "input": [],
     "language": "python",
     "metadata": {},
     "outputs": []
    }
   ],
   "metadata": {}
  }
 ]
}