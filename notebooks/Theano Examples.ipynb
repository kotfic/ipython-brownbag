{
 "metadata": {
  "name": "",
  "signature": "sha256:0abd8ef5a8aac4f4d6327d2372164ec24a8066f110ba852c54473e21e89aa2d8"
 },
 "nbformat": 3,
 "nbformat_minor": 0,
 "worksheets": [
  {
   "cells": [
    {
     "cell_type": "code",
     "collapsed": false,
     "input": [
      "%matplotlib inline\n",
      "%load_ext autoreload\n",
      "%autoreload 2"
     ],
     "language": "python",
     "metadata": {},
     "outputs": [],
     "prompt_number": 53
    },
    {
     "cell_type": "code",
     "collapsed": false,
     "input": [
      "from matplotlib import pylab as plt\n",
      "import matplotlib as mpl\n",
      "import numpy as np"
     ],
     "language": "python",
     "metadata": {},
     "outputs": [],
     "prompt_number": 1
    },
    {
     "cell_type": "code",
     "collapsed": false,
     "input": [
      "import theano.tensor as T\n",
      "from theano import function\n",
      "from theano import pp"
     ],
     "language": "python",
     "metadata": {},
     "outputs": [],
     "prompt_number": 2
    },
    {
     "cell_type": "markdown",
     "metadata": {},
     "source": [
      "# Basic Tutorial"
     ]
    },
    {
     "cell_type": "code",
     "collapsed": false,
     "input": [
      "x = T.dscalar('x')\n",
      "y = T.dscalar('y')\n",
      "\n",
      "z = x + y"
     ],
     "language": "python",
     "metadata": {},
     "outputs": [],
     "prompt_number": 3
    },
    {
     "cell_type": "code",
     "collapsed": false,
     "input": [
      "# function([args], outcome) -  this \"compiles\"  the expression z = x + y \n",
      "f = function([x, y], z)"
     ],
     "language": "python",
     "metadata": {},
     "outputs": [],
     "prompt_number": 4
    },
    {
     "cell_type": "code",
     "collapsed": false,
     "input": [
      "f(2,3)"
     ],
     "language": "python",
     "metadata": {},
     "outputs": [
      {
       "metadata": {},
       "output_type": "pyout",
       "prompt_number": 5,
       "text": [
        "array(5.0)"
       ]
      }
     ],
     "prompt_number": 5
    },
    {
     "cell_type": "code",
     "collapsed": false,
     "input": [
      "f(16.3, 12.1)"
     ],
     "language": "python",
     "metadata": {},
     "outputs": [
      {
       "metadata": {},
       "output_type": "pyout",
       "prompt_number": 6,
       "text": [
        "array(28.4)"
       ]
      }
     ],
     "prompt_number": 6
    },
    {
     "cell_type": "code",
     "collapsed": false,
     "input": [
      "type(x)"
     ],
     "language": "python",
     "metadata": {},
     "outputs": [
      {
       "metadata": {},
       "output_type": "pyout",
       "prompt_number": 8,
       "text": [
        "theano.tensor.var.TensorVariable"
       ]
      }
     ],
     "prompt_number": 8
    },
    {
     "cell_type": "code",
     "collapsed": false,
     "input": [
      "x.type"
     ],
     "language": "python",
     "metadata": {},
     "outputs": [
      {
       "metadata": {},
       "output_type": "pyout",
       "prompt_number": 9,
       "text": [
        "TensorType(float64, scalar)"
       ]
      }
     ],
     "prompt_number": 9
    },
    {
     "cell_type": "code",
     "collapsed": false,
     "input": [
      "# string expressions of compiled expressions can be recovered\n",
      "pp(z)"
     ],
     "language": "python",
     "metadata": {},
     "outputs": [
      {
       "metadata": {},
       "output_type": "pyout",
       "prompt_number": 13,
       "text": [
        "'(x + y)'"
       ]
      }
     ],
     "prompt_number": 13
    },
    {
     "cell_type": "markdown",
     "metadata": {},
     "source": [
      "## Types of Theano variables\n",
      "+ **byte**: bscalar, bvector, bmatrix, brow, bcol, btensor3, btensor4\n",
      "+ **16-bit integers**: wscalar, wvector, wmatrix, wrow, wcol, wtensor3, wtensor4\n",
      "+ **32-bit integers**: iscalar, ivector, imatrix, irow, icol, itensor3, itensor4\n",
      "+ **64-bit integers**: lscalar, lvector, lmatrix, lrow, lcol, ltensor3, ltensor4\n",
      "+ **float**: fscalar, fvector, fmatrix, frow, fcol, ftensor3, ftensor4\n",
      "+ **double**: dscalar, dvector, dmatrix, drow, dcol, dtensor3, dtensor4\n",
      "+ **complex**: cscalar, cvector, cmatrix, crow, ccol, ctensor3, ctensor4"
     ]
    },
    {
     "cell_type": "markdown",
     "metadata": {},
     "source": [
      "## Exercise"
     ]
    },
    {
     "cell_type": "code",
     "collapsed": false,
     "input": [
      "import theano\n",
      "a = theano.tensor.vector()\n",
      "out = a + a ** 10\n",
      "f = theano.function([a], out)\n",
      "print(f([0, 1, 2]))"
     ],
     "language": "python",
     "metadata": {},
     "outputs": [
      {
       "output_type": "stream",
       "stream": "stdout",
       "text": [
        "[    0.     2.  1026.]\n"
       ]
      }
     ],
     "prompt_number": 15
    },
    {
     "cell_type": "code",
     "collapsed": false,
     "input": [
      "a = theano.tensor.vector()\n",
      "b = theano.tensor.vector()\n",
      "out = a**2 + b**2 + 2 * a * b\n",
      "f = theano.function([a, b], out)\n",
      "print(f([1, 2], [4, 5]))"
     ],
     "language": "python",
     "metadata": {},
     "outputs": [
      {
       "output_type": "stream",
       "stream": "stdout",
       "text": [
        "[ 25.  49.]\n"
       ]
      }
     ],
     "prompt_number": 17
    },
    {
     "cell_type": "markdown",
     "metadata": {},
     "source": [
      "# Logistic Function"
     ]
    },
    {
     "cell_type": "markdown",
     "metadata": {},
     "source": [
      "\\( s(x) = \\frac{1}{1 + e^{-x}} \\)"
     ]
    },
    {
     "cell_type": "code",
     "collapsed": false,
     "input": [
      "x = T.dmatrix('x')\n",
      "s = 1 / (1 + T.exp(-x))"
     ],
     "language": "python",
     "metadata": {},
     "outputs": [],
     "prompt_number": 131
    },
    {
     "cell_type": "code",
     "collapsed": false,
     "input": [
      "logistic = function([x], s)"
     ],
     "language": "python",
     "metadata": {},
     "outputs": [],
     "prompt_number": 132
    },
    {
     "cell_type": "code",
     "collapsed": false,
     "input": [
      "logistic([[0, 1], [-1, -2]])"
     ],
     "language": "python",
     "metadata": {},
     "outputs": [
      {
       "metadata": {},
       "output_type": "pyout",
       "prompt_number": 133,
       "text": [
        "array([[ 0.5       ,  0.73105858],\n",
        "       [ 0.26894142,  0.11920292]])"
       ]
      }
     ],
     "prompt_number": 133
    },
    {
     "cell_type": "code",
     "collapsed": false,
     "input": [
      "fig, ax = plt.subplots(1,1)\n",
      "dx = np.linspace(-8,8, 1000)\n",
      "ax.plot(dx, logistic(dx.reshape((len(dx), 1))))"
     ],
     "language": "python",
     "metadata": {},
     "outputs": [
      {
       "metadata": {},
       "output_type": "pyout",
       "prompt_number": 47,
       "text": [
        "[<matplotlib.lines.Line2D at 0x7f6145e8fad0>]"
       ]
      },
      {
       "metadata": {},
       "output_type": "display_data",
       "png": "[encoded data removed]",
       "text": [
        "<matplotlib.figure.Figure at 0x7f61457cb190>"
       ]
      }
     ],
     "prompt_number": 47
    },
    {
     "cell_type": "heading",
     "level": 1,
     "metadata": {},
     "source": [
      "Computing more than one thing"
     ]
    },
    {
     "cell_type": "code",
     "collapsed": false,
     "input": [
      "a, b = T.dmatrices('a', 'b')\n",
      "diff = a - b\n",
      "abs_diff = abs(diff)\n",
      "diff_squared = diff**2"
     ],
     "language": "python",
     "metadata": {},
     "outputs": [],
     "prompt_number": 49
    },
    {
     "cell_type": "code",
     "collapsed": false,
     "input": [
      "f = function([a, b], [diff, abs_diff, diff_squared])"
     ],
     "language": "python",
     "metadata": {},
     "outputs": [],
     "prompt_number": 50
    },
    {
     "cell_type": "code",
     "collapsed": false,
     "input": [
      "f([[1, 1], [1, 1]], [[0, 1], [2, 3]])"
     ],
     "language": "python",
     "metadata": {},
     "outputs": [
      {
       "metadata": {},
       "output_type": "pyout",
       "prompt_number": 51,
       "text": [
        "[array([[ 1.,  0.],\n",
        "        [-1., -2.]]), array([[ 1.,  0.],\n",
        "        [ 1.,  2.]]), array([[ 1.,  0.],\n",
        "        [ 1.,  4.]])]"
       ]
      }
     ],
     "prompt_number": 51
    },
    {
     "cell_type": "heading",
     "level": 1,
     "metadata": {},
     "source": [
      "Shared State"
     ]
    },
    {
     "cell_type": "code",
     "collapsed": false,
     "input": [
      "from theano import shared\n",
      "state = shared(0)\n",
      "inc = T.iscalar('inc')\n",
      "accumulator = function([inc], state, updates=[(state, state+inc)])"
     ],
     "language": "python",
     "metadata": {},
     "outputs": [],
     "prompt_number": 52
    },
    {
     "cell_type": "code",
     "collapsed": false,
     "input": [
      "state.get_value()"
     ],
     "language": "python",
     "metadata": {},
     "outputs": [
      {
       "metadata": {},
       "output_type": "pyout",
       "prompt_number": 53,
       "text": [
        "array(0)"
       ]
      }
     ],
     "prompt_number": 53
    },
    {
     "cell_type": "code",
     "collapsed": false,
     "input": [
      "accumulator(1)"
     ],
     "language": "python",
     "metadata": {},
     "outputs": [
      {
       "metadata": {},
       "output_type": "pyout",
       "prompt_number": 54,
       "text": [
        "array(0)"
       ]
      }
     ],
     "prompt_number": 54
    },
    {
     "cell_type": "code",
     "collapsed": false,
     "input": [
      "state.get_value()"
     ],
     "language": "python",
     "metadata": {},
     "outputs": [
      {
       "metadata": {},
       "output_type": "pyout",
       "prompt_number": 55,
       "text": [
        "array(1)"
       ]
      }
     ],
     "prompt_number": 55
    },
    {
     "cell_type": "code",
     "collapsed": false,
     "input": [
      "accumulator(300)"
     ],
     "language": "python",
     "metadata": {},
     "outputs": [
      {
       "metadata": {},
       "output_type": "pyout",
       "prompt_number": 56,
       "text": [
        "array(1)"
       ]
      }
     ],
     "prompt_number": 56
    },
    {
     "cell_type": "code",
     "collapsed": false,
     "input": [
      "state.get_value()"
     ],
     "language": "python",
     "metadata": {},
     "outputs": [
      {
       "metadata": {},
       "output_type": "pyout",
       "prompt_number": 57,
       "text": [
        "array(301)"
       ]
      }
     ],
     "prompt_number": 57
    },
    {
     "cell_type": "code",
     "collapsed": false,
     "input": [
      "# Set state with set_value() function\n",
      "state.set_value(0)"
     ],
     "language": "python",
     "metadata": {},
     "outputs": [],
     "prompt_number": 59
    },
    {
     "cell_type": "markdown",
     "metadata": {},
     "source": [
      "# Random Numbers"
     ]
    },
    {
     "cell_type": "code",
     "collapsed": false,
     "input": [
      "from theano.tensor.shared_randomstreams import RandomStreams\n",
      "from theano import function"
     ],
     "language": "python",
     "metadata": {},
     "outputs": [],
     "prompt_number": 61
    },
    {
     "cell_type": "code",
     "collapsed": false,
     "input": [
      "srng = RandomStreams(seed=234)\n",
      "rv_u = srng.uniform((2,2))\n",
      "rv_n = srng.normal((2, 2))\n",
      "f = function([], rv_u)\n",
      "g = function([], rv_n, no_default_updates=True)\n",
      "nearly_zeros = function([], rv_u + rv_u - 2 * rv_u)"
     ],
     "language": "python",
     "metadata": {},
     "outputs": [],
     "prompt_number": 68
    },
    {
     "cell_type": "code",
     "collapsed": false,
     "input": [
      "nearly_zeros()"
     ],
     "language": "python",
     "metadata": {},
     "outputs": [
      {
       "metadata": {},
       "output_type": "pyout",
       "prompt_number": 72,
       "text": [
        "array([[ 0.,  0.],\n",
        "       [ 0.,  0.]])"
       ]
      }
     ],
     "prompt_number": 72
    },
    {
     "cell_type": "code",
     "collapsed": false,
     "input": [
      "f() - f()"
     ],
     "language": "python",
     "metadata": {},
     "outputs": [
      {
       "metadata": {},
       "output_type": "pyout",
       "prompt_number": 66,
       "text": [
        "array([[-0.4226446 , -0.54037649],\n",
        "       [-0.72378507, -0.24559391]])"
       ]
      }
     ],
     "prompt_number": 66
    },
    {
     "cell_type": "code",
     "collapsed": false,
     "input": [
      "tmp = f()\n",
      "tmp - tmp"
     ],
     "language": "python",
     "metadata": {},
     "outputs": [
      {
       "metadata": {},
       "output_type": "pyout",
       "prompt_number": 67,
       "text": [
        "array([[ 0.,  0.],\n",
        "       [ 0.,  0.]])"
       ]
      }
     ],
     "prompt_number": 67
    },
    {
     "cell_type": "code",
     "collapsed": false,
     "input": [
      "g()"
     ],
     "language": "python",
     "metadata": {},
     "outputs": [
      {
       "metadata": {},
       "output_type": "pyout",
       "prompt_number": 65,
       "text": [
        "array([[ 0.37328447, -0.65746672],\n",
        "       [-0.36302373, -0.97484625]])"
       ]
      }
     ],
     "prompt_number": 65
    },
    {
     "cell_type": "markdown",
     "metadata": {},
     "source": [
      "## Copy Random State\n",
      "(useful if you want to take paramaters from a pickled model and re-initialize that model)"
     ]
    },
    {
     "cell_type": "code",
     "collapsed": false,
     "input": [
      "import theano\n",
      "import numpy\n",
      "import theano.tensor as T\n",
      "from theano.sandbox.rng_mrg import MRG_RandomStreams\n",
      "from theano.tensor.shared_randomstreams import RandomStreams\n",
      "\n",
      "class Graph():\n",
      "    def __init__(self, seed=123):\n",
      "        self.rng = RandomStreams(seed)\n",
      "        self.y = self.rng.uniform(size=(1,))\n",
      "\n",
      "g1 = Graph(seed=123)\n",
      "f1 = theano.function([], g1.y)\n",
      "\n",
      "g2 = Graph(seed=987)\n",
      "f2 = theano.function([], g2.y)\n",
      "\n",
      "print 'By default, the two functions are out of sync.'\n",
      "print 'f1() returns ', f1()\n",
      "print 'f2() returns ', f2()\n",
      "\n",
      "def copy_random_state(g1, g2):\n",
      "    if isinstance(g1.rng, MRG_RandomStreams):\n",
      "        g2.rng.rstate = g1.rng.rstate\n",
      "    for (su1, su2) in zip(g1.rng.state_updates, g2.rng.state_updates):\n",
      "        su2[0].set_value(su1[0].get_value())\n",
      "\n",
      "print 'We now copy the state of the theano random number generators.'\n",
      "copy_random_state(g1, g2)\n",
      "print 'f1() returns ', f1()\n",
      "print 'f2() returns ', f2()"
     ],
     "language": "python",
     "metadata": {},
     "outputs": [
      {
       "output_type": "stream",
       "stream": "stdout",
       "text": [
        "By default, the two functions are out of sync.\n",
        "f1() returns  [ 0.72803009]\n",
        "f2() returns  [ 0.55056769]\n",
        "We now copy the state of the theano random number generators.\n",
        "f1() returns  [ 0.59044123]\n",
        "f2() returns  [ 0.59044123]\n"
       ]
      }
     ],
     "prompt_number": 73
    },
    {
     "cell_type": "markdown",
     "metadata": {},
     "source": [
      "# Full Logistic Regression"
     ]
    },
    {
     "cell_type": "code",
     "collapsed": false,
     "input": [
      "import theano"
     ],
     "language": "python",
     "metadata": {},
     "outputs": [],
     "prompt_number": 3
    },
    {
     "cell_type": "code",
     "collapsed": false,
     "input": [
      "rng = np.random\n",
      "\n",
      "N = 400\n",
      "feats = 784\n",
      "\n",
      "D = (rng.randn(N, feats), rng.randint(size=N, low=0, high=2))\n",
      "training_steps = 10000"
     ],
     "language": "python",
     "metadata": {},
     "outputs": [],
     "prompt_number": 56
    },
    {
     "cell_type": "code",
     "collapsed": false,
     "input": [
      "x = T.matrix(\"x\")\n",
      "y = T.vector(\"y\")\n",
      "# Set random weights\n",
      "w = theano.shared(rng.randn(feats), name=\"w\")\n",
      "# ??\n",
      "b = theano.shared(0., name=\"b\")"
     ],
     "language": "python",
     "metadata": {},
     "outputs": [],
     "prompt_number": 57
    },
    {
     "cell_type": "code",
     "collapsed": false,
     "input": [
      "# Construct Theano Expression graph\n",
      "y_hat = 1 / (1 + T.exp(- T.dot(x, w) - b))"
     ],
     "language": "python",
     "metadata": {},
     "outputs": [],
     "prompt_number": 6
    },
    {
     "cell_type": "code",
     "collapsed": false,
     "input": [
      "# Prediction threshold\n",
      "prediction = y_hat > 0.5"
     ],
     "language": "python",
     "metadata": {},
     "outputs": [],
     "prompt_number": 7
    },
    {
     "cell_type": "code",
     "collapsed": false,
     "input": [
      "# Cross entropy loss function\n",
      "xent = -y * T.log(y_hat) - (1 - y) * T.log(1 - y_hat)"
     ],
     "language": "python",
     "metadata": {},
     "outputs": [],
     "prompt_number": 8
    },
    {
     "cell_type": "code",
     "collapsed": false,
     "input": [
      "# Cost Function (w/regularization,  lambda = 0.01)\n",
      "cost = xent.mean() + 0.01 * (w **2).sum()"
     ],
     "language": "python",
     "metadata": {},
     "outputs": [],
     "prompt_number": 9
    },
    {
     "cell_type": "code",
     "collapsed": false,
     "input": [
      "# Gradient magic\n",
      "gw, gb = T.grad(cost, [w, b])"
     ],
     "language": "python",
     "metadata": {},
     "outputs": [],
     "prompt_number": 10
    },
    {
     "cell_type": "code",
     "collapsed": false,
     "input": [
      "train = theano.function(\n",
      "        inputs=[x, y],\n",
      "        outputs=[prediction, xent, cost],\n",
      "        updates=((w, w - 0.1 * gw), (b, b - 0.1 * gb))) # gradient descent"
     ],
     "language": "python",
     "metadata": {},
     "outputs": [],
     "prompt_number": 32
    },
    {
     "cell_type": "code",
     "collapsed": false,
     "input": [
      "predict = theano.function(inputs=[x], outputs=prediction)"
     ],
     "language": "python",
     "metadata": {},
     "outputs": [],
     "prompt_number": 33
    },
    {
     "cell_type": "code",
     "collapsed": false,
     "input": [
      "C = []\n",
      "for i in range(training_steps):\n",
      "    pred, err, cost = train(D[0], D[1])\n",
      "    C.append(float(cost))"
     ],
     "language": "python",
     "metadata": {},
     "outputs": [],
     "prompt_number": 58
    },
    {
     "cell_type": "code",
     "collapsed": false,
     "input": [
      "plt.plot(range(len(C)), C)\n",
      "plt.xlabel(\"Iteration\")\n",
      "plt.ylabel(\"Cost\")"
     ],
     "language": "python",
     "metadata": {},
     "outputs": [
      {
       "metadata": {},
       "output_type": "pyout",
       "prompt_number": 59,
       "text": [
        "<matplotlib.text.Text at 0x7f936a5940d0>"
       ]
      },
      {
       "metadata": {},
       "output_type": "display_data",
       "png": "[encoded data removed]",
       "text": [
        "<matplotlib.figure.Figure at 0x7f936a5d85d0>"
       ]
      }
     ],
     "prompt_number": 59
    },
    {
     "cell_type": "code",
     "collapsed": false,
     "input": [
      "from sklearn.metrics import  classification_report"
     ],
     "language": "python",
     "metadata": {},
     "outputs": [],
     "prompt_number": 60
    },
    {
     "cell_type": "code",
     "collapsed": false,
     "input": [
      "print classification_report(D[1], predict(D[0]))"
     ],
     "language": "python",
     "metadata": {},
     "outputs": [
      {
       "output_type": "stream",
       "stream": "stdout",
       "text": [
        "             precision    recall  f1-score   support\n",
        "\n",
        "          0       1.00      1.00      1.00       204\n",
        "          1       1.00      1.00      1.00       196\n",
        "\n",
        "avg / total       1.00      1.00      1.00       400\n",
        "\n"
       ]
      }
     ],
     "prompt_number": 63
    },
    {
     "cell_type": "markdown",
     "metadata": {},
     "source": [
      "### TODO: Write in cross validation for Logistic Regression as an example"
     ]
    },
    {
     "cell_type": "markdown",
     "metadata": {},
     "source": [
      "# Theano Graphs"
     ]
    },
    {
     "cell_type": "code",
     "collapsed": false,
     "input": [
      "x = T.dmatrix('x')\n",
      "y = x * 2."
     ],
     "language": "python",
     "metadata": {},
     "outputs": [],
     "prompt_number": 71
    },
    {
     "cell_type": "code",
     "collapsed": false,
     "input": [
      "type(y.owner)"
     ],
     "language": "python",
     "metadata": {},
     "outputs": [
      {
       "metadata": {},
       "output_type": "pyout",
       "prompt_number": 72,
       "text": [
        "theano.gof.graph.Apply"
       ]
      }
     ],
     "prompt_number": 72
    },
    {
     "cell_type": "code",
     "collapsed": false,
     "input": [
      "y.owner.inputs"
     ],
     "language": "python",
     "metadata": {},
     "outputs": [
      {
       "metadata": {},
       "output_type": "pyout",
       "prompt_number": 73,
       "text": [
        "[x, DimShuffle{x,x}.0]"
       ]
      }
     ],
     "prompt_number": 73
    },
    {
     "cell_type": "code",
     "collapsed": false,
     "input": [
      "# DimShuffle will take 2 and make it an array of proper size at run time\n",
      "y.owner.inputs[1].owner"
     ],
     "language": "python",
     "metadata": {},
     "outputs": [
      {
       "metadata": {},
       "output_type": "pyout",
       "prompt_number": 84,
       "text": [
        "DimShuffle{x,x}(TensorConstant{2.0})"
       ]
      }
     ],
     "prompt_number": 84
    },
    {
     "cell_type": "markdown",
     "metadata": {},
     "source": [
      "## Graph Printing"
     ]
    },
    {
     "cell_type": "code",
     "collapsed": false,
     "input": [
      "import theano\n",
      "a = theano.tensor.vector(\"a\")\n",
      "b = a + a ** 10\n",
      "f = theano.function([a], b)"
     ],
     "language": "python",
     "metadata": {},
     "outputs": [],
     "prompt_number": 85
    },
    {
     "cell_type": "code",
     "collapsed": false,
     "input": [
      "print f([0, 1, 2])"
     ],
     "language": "python",
     "metadata": {},
     "outputs": [
      {
       "output_type": "stream",
       "stream": "stdout",
       "text": [
        "[    0.     2.  1026.]\n"
       ]
      }
     ],
     "prompt_number": 86
    },
    {
     "cell_type": "code",
     "collapsed": false,
     "input": [
      "print theano.pp(prediction)"
     ],
     "language": "python",
     "metadata": {},
     "outputs": [
      {
       "output_type": "stream",
       "stream": "stdout",
       "text": [
        "gt((TensorConstant{1} / (TensorConstant{1} + exp(((-(x \\dot w)) - b)))), TensorConstant{0.5})\n"
       ]
      }
     ],
     "prompt_number": 91
    },
    {
     "cell_type": "code",
     "collapsed": false,
     "input": [
      "print theano.printing.debugprint(prediction)"
     ],
     "language": "python",
     "metadata": {},
     "outputs": [
      {
       "output_type": "stream",
       "stream": "stdout",
       "text": [
        "Elemwise{gt,no_inplace} [@A] ''   \n",
        " |Elemwise{true_div,no_inplace} [@B] ''   \n",
        " | |DimShuffle{x} [@C] ''   \n",
        " | | |TensorConstant{1} [@D]\n",
        " | |Elemwise{add,no_inplace} [@E] ''   \n",
        " |   |DimShuffle{x} [@F] ''   \n",
        " |   | |TensorConstant{1} [@D]\n",
        " |   |Elemwise{exp,no_inplace} [@G] ''   \n",
        " |     |Elemwise{sub,no_inplace} [@H] ''   \n",
        " |       |Elemwise{neg,no_inplace} [@I] ''   \n",
        " |       | |dot [@J] ''   \n",
        " |       |   |x [@K]\n",
        " |       |   |w [@L]\n",
        " |       |DimShuffle{x} [@M] ''   \n",
        " |         |b [@N]\n",
        " |DimShuffle{x} [@O] ''   \n",
        "   |TensorConstant{0.5} [@P]\n"
       ]
      },
      {
       "output_type": "stream",
       "stream": "stdout",
       "text": [
        "None\n"
       ]
      }
     ],
     "prompt_number": 92
    },
    {
     "cell_type": "code",
     "collapsed": false,
     "input": [
      "%matplotlib inline"
     ],
     "language": "python",
     "metadata": {},
     "outputs": [],
     "prompt_number": 96
    },
    {
     "cell_type": "code",
     "collapsed": false,
     "input": [
      "from IPython.display import Image\n",
      "theano.printing.pydotprint_variables(prediction, outfile=\"/tmp/tmp.png\")\n",
      "Image(\"/tmp/tmp.png\")"
     ],
     "language": "python",
     "metadata": {},
     "outputs": [
      {
       "output_type": "stream",
       "stream": "stdout",
       "text": [
        "The output file is available at /tmp/tmp.png\n"
       ]
      },
      {
       "metadata": {},
       "output_type": "pyout",
       "png": "[encoded data removed]",
       "prompt_number": 103,
       "text": [
        "<IPython.core.display.Image at 0x7f93672f6510>"
       ]
      }
     ],
     "prompt_number": 103
    },
    {
     "cell_type": "markdown",
     "metadata": {},
     "source": [
      "# Automated Gradients\n",
      "(or how I finally got to stick it to my undergrad calc profs)"
     ]
    },
    {
     "cell_type": "code",
     "collapsed": false,
     "input": [
      "from theano import pp\n",
      "from theano.printing import debugprint as dp\n",
      "x = T.dscalar('x')\n",
      "y = x ** 2\n",
      "gy = T.grad(y, x)"
     ],
     "language": "python",
     "metadata": {},
     "outputs": [],
     "prompt_number": 107
    },
    {
     "cell_type": "code",
     "collapsed": false,
     "input": [
      "print pp(gy)"
     ],
     "language": "python",
     "metadata": {},
     "outputs": [
      {
       "output_type": "stream",
       "stream": "stdout",
       "text": [
        "((fill((x ** TensorConstant{2}), TensorConstant{1.0}) * TensorConstant{2}) * (x ** (TensorConstant{2} - TensorConstant{1})))\n"
       ]
      }
     ],
     "prompt_number": 108
    },
    {
     "cell_type": "code",
     "collapsed": false,
     "input": [
      "print dp(gy)"
     ],
     "language": "python",
     "metadata": {},
     "outputs": [
      {
       "output_type": "stream",
       "stream": "stdout",
       "text": [
        "Elemwise{mul} [@A] ''   \n",
        " |Elemwise{mul} [@B] ''   \n",
        " | |Elemwise{second,no_inplace} [@C] ''   \n",
        " | | |Elemwise{pow,no_inplace} [@D] ''   \n",
        " | | | |x [@E]\n",
        " | | | |TensorConstant{2} [@F]\n",
        " | | |TensorConstant{1.0} [@G]\n",
        " | |TensorConstant{2} [@F]\n",
        " |Elemwise{pow} [@H] ''   \n",
        "   |x [@E]\n",
        "   |Elemwise{sub} [@I] ''   \n",
        "     |TensorConstant{2} [@F]\n",
        "     |DimShuffle{} [@J] ''   \n",
        "       |TensorConstant{1} [@K]\n"
       ]
      },
      {
       "output_type": "stream",
       "stream": "stdout",
       "text": [
        "None\n"
       ]
      }
     ],
     "prompt_number": 109
    },
    {
     "cell_type": "markdown",
     "metadata": {},
     "source": [
      "**First**:\n",
      "```python\n",
      "fill((x ** TensorConstant{2}), TensorConstaint{1.0})  \n",
      "```\n",
      "means create a matrix the size of `x ** TensorConstant{2}` and multiply it by 1.0   ___then___ multiply it by \n",
      "\n",
      "```python\n",
      "TensorConstant{2} * (x ** (TensorConstant{2} - TensorConstant{1}))\n",
      "```\n",
      "Which is functionally equivalent to `2 * x`  the derivative of `x ** 2`\n",
      "\n",
      "**Note that the above is unoptamized**\n"
     ]
    },
    {
     "cell_type": "code",
     "collapsed": false,
     "input": [
      "f = theano.function([x], y)"
     ],
     "language": "python",
     "metadata": {},
     "outputs": [],
     "prompt_number": 120
    },
    {
     "cell_type": "code",
     "collapsed": false,
     "input": [
      "pp(f.maker.fgraph.outputs[0])"
     ],
     "language": "python",
     "metadata": {},
     "outputs": [
      {
       "metadata": {},
       "output_type": "pyout",
       "prompt_number": 121,
       "text": [
        "'sqr(x)'"
       ]
      }
     ],
     "prompt_number": 121
    },
    {
     "cell_type": "code",
     "collapsed": false,
     "input": [
      "gf = theano.function([x], gy)"
     ],
     "language": "python",
     "metadata": {},
     "outputs": [],
     "prompt_number": 122
    },
    {
     "cell_type": "code",
     "collapsed": false,
     "input": [
      "pp(f.maker.fgraph.outputs[0])"
     ],
     "language": "python",
     "metadata": {},
     "outputs": [
      {
       "metadata": {},
       "output_type": "pyout",
       "prompt_number": 123,
       "text": [
        "'sqr(x)'"
       ]
      }
     ],
     "prompt_number": 123
    },
    {
     "cell_type": "code",
     "collapsed": false,
     "input": [
      "f(1)"
     ],
     "language": "python",
     "metadata": {},
     "outputs": [
      {
       "metadata": {},
       "output_type": "pyout",
       "prompt_number": 127,
       "text": [
        "array(1.0)"
       ]
      }
     ],
     "prompt_number": 127
    },
    {
     "cell_type": "code",
     "collapsed": false,
     "input": [
      "# Redefine logistic function\n",
      "x = T.dmatrix(\"x\")\n",
      "s = 1 / (1 + T.exp(-x))\n",
      "gs = T.grad(T.sum(s), x)\n",
      "ggs = T.grad(T.sum(gs), x)\n",
      "\n",
      "logistic = function([x], s)\n",
      "# And its gradient\n",
      "dlogistic = function([x], gs)\n",
      "ddlogistic = function([x], ggs)"
     ],
     "language": "python",
     "metadata": {},
     "outputs": [],
     "prompt_number": 169
    },
    {
     "cell_type": "code",
     "collapsed": false,
     "input": [
      "fig, ax = plt.subplots(1,3, figsize=(16, 4))\n",
      "dx = np.linspace(-8,8, 1000)\n",
      "\n",
      "ax[0].plot(dx, logistic(dx.reshape((len(dx), 1))))\n",
      "ax[0].set_title(\"Sigmoid\")\n",
      "ax[1].plot(dx, dlogistic(dx.reshape((len(dx), 1))))\n",
      "ax[1].set_title(\"First Moment\")\n",
      "ax[2].plot(dx, ddlogistic(dx.reshape((len(dx), 1))))\n",
      "ax[2].set_title(\"Second Moment\")"
     ],
     "language": "python",
     "metadata": {},
     "outputs": [
      {
       "metadata": {},
       "output_type": "pyout",
       "prompt_number": 173,
       "text": [
        "<matplotlib.text.Text at 0x7f935fd06c90>"
       ]
      },
      {
       "metadata": {},
       "output_type": "display_data",
       "png": "[encoded data removed]",
       "text": [
        "<matplotlib.figure.Figure at 0x7f935f12bc10>"
       ]
      }
     ],
     "prompt_number": 173
    },
    {
     "cell_type": "markdown",
     "metadata": {},
     "source": [
      "### TODO Write arbitrary moment printer"
     ]
    },
    {
     "cell_type": "markdown",
     "metadata": {},
     "source": [
      "# Theano Configs"
     ]
    },
    {
     "cell_type": "code",
     "collapsed": false,
     "input": [
      "print theano.config"
     ],
     "language": "python",
     "metadata": {},
     "outputs": [
      {
       "output_type": "stream",
       "stream": "stdout",
       "text": [
        "floatX (('float64', 'float32')) \n",
        "    Doc:  Default floating-point precision for python casts\n",
        "    Value:  float64\n",
        "\n",
        "cast_policy (('custom', 'numpy+floatX')) \n",
        "    Doc:  Rules for implicit type casting\n",
        "    Value:  custom\n",
        "\n",
        "int_division (('int', 'raise', 'floatX')) \n",
        "    Doc:  What to do when one computes x / y, where both x and y are of integer types\n",
        "    Value:  int\n",
        "\n",
        "device (cpu, gpu*, opencl*, cuda*) \n",
        "    Doc:  Default device for computations. If gpu*, change the default to try to move computation to it and to put shared variable of float32 on it. Do not use upper case letters, only lower case even if NVIDIA use capital letters.\n",
        "    Value:  cpu\n",
        "\n",
        "gpuarray.init_device (<type 'str'>) \n",
        "    Doc:  \n",
        "             Device to initialize for gpuarray use without moving\n",
        "             computations automatically.\n",
        "             \n",
        "    Value:  \n",
        "\n",
        "init_gpu_device (('', 'gpu', 'gpu0', 'gpu1', 'gpu2', 'gpu3', 'gpu4', 'gpu5', 'gpu6', 'gpu7', 'gpu8', 'gpu9', 'gpu10', 'gpu11', 'gpu12', 'gpu13', 'gpu14', 'gpu15')) \n",
        "    Doc:  Initialize the gpu device to use, works only if device=cpu. Unlike 'device', setting this option will NOT move computations, nor shared variables, to the specified GPU. It can be used to run GPU-specific tests on a particular GPU.\n",
        "    Value:  \n",
        "\n",
        "force_device (<function booltype at 0x7f9377743b18>) \n",
        "    Doc:  Raise an error if we can't use the specified device\n",
        "    Value:  False\n",
        "\n",
        "print_active_device (<function booltype at 0x7f9377743c80>) \n",
        "    Doc:  Print active device at when the GPU device is initialized.\n",
        "    Value:  True\n",
        "\n",
        "mode (('Mode', 'ProfileMode', 'DebugMode', 'FAST_RUN', 'FAST_COMPILE', 'PROFILE_MODE', 'DEBUG_MODE')) \n",
        "    Doc:  Default compilation mode\n",
        "    Value:  Mode\n",
        "\n",
        "linker (('cvm', 'c|py', 'py', 'c', 'c|py_nogc', 'c&py', 'vm', 'vm_nogc', 'cvm_nogc')) \n",
        "    Doc:  Default linker used if the theano flags mode is Mode or ProfileMode(deprecated)\n",
        "    Value:  cvm\n",
        "\n",
        "cxx (('g++', '')) \n",
        "    Doc:  The C++ compiler to use. Currently only g++ is supported, but supporting additional compilers should not be too difficult. If it is empty, no C++ code is compiled.\n",
        "    Value:  g++\n",
        "\n",
        "allow_gc (<function booltype at 0x7f9377743f50>) \n",
        "    Doc:  Do we default to delete intermediate results during Theano function calls? Doing so lowers the memory requirement, but asks that we reallocate memory at the next function call. This is implemented for the default linker, but may not work for all linkers.\n",
        "    Value:  True\n",
        "\n",
        "optimizer (('fast_run', 'merge', 'fast_compile', 'None')) \n",
        "    Doc:  Default optimizer. If not None, will use this linker with the Mode object (not ProfileMode(deprecated) or DebugMode)\n",
        "    Value:  fast_run\n",
        "\n",
        "optimizer_verbose (<function booltype at 0x7f937774b1b8>) \n",
        "    Doc:  If True, we print all optimization being applied\n",
        "    Value:  False\n",
        "\n",
        "on_opt_error (('warn', 'raise', 'pdb')) \n",
        "    Doc:  What to do when an optimization crashes: warn and skip it, raise the exception, or fall into the pdb debugger.\n",
        "    Value:  warn\n",
        "\n",
        "<theano.configparser.ConfigParam object at 0x7f937774a210>\n",
        "    Doc:  This config option was removed in 0.5: do not use it!\n",
        "    Value:  True\n",
        "\n",
        "nocleanup (<function booltype at 0x7f937774b410>) \n",
        "    Doc:  Suppress the deletion of code files that did not compile cleanly\n",
        "    Value:  False\n",
        "\n",
        "on_unused_input (('raise', 'warn', 'ignore')) \n",
        "    Doc:  What to do if a variable in the 'inputs' list of  theano.function() is not used in the graph.\n",
        "    Value:  raise\n",
        "\n",
        "tensor.cmp_sloppy (<type 'int'>) \n",
        "    Doc:  Relax tensor._allclose (0) not at all, (1) a bit, (2) more\n",
        "    Value:  0\n",
        "\n",
        "tensor.local_elemwise_fusion (<function booltype at 0x7f937774b6e0>) \n",
        "    Doc:  Enable or not in fast_run mode(fast_run optimization) the elemwise fusion optimization\n",
        "    Value:  True\n",
        "\n",
        "gpu.local_elemwise_fusion (<function booltype at 0x7f937774b848>) \n",
        "    Doc:  Enable or not in fast_run mode(fast_run optimization) the gpu elemwise fusion optimization\n",
        "    Value:  True\n",
        "\n",
        "lib.amdlibm (<function booltype at 0x7f937774b9b0>) \n",
        "    Doc:  Use amd's amdlibm numerical library\n",
        "    Value:  False\n",
        "\n",
        "gpuelemwise.sync (<function booltype at 0x7f937774bb18>) \n",
        "    Doc:  when true, wait that the gpu fct finished and check it error code.\n",
        "    Value:  True\n",
        "\n",
        "traceback.limit (<type 'int'>) \n",
        "    Doc:  The number of stack to trace. -1 mean all.\n",
        "    Value:  5\n",
        "\n",
        "experimental.mrg (<function booltype at 0x7f937774bcf8>) \n",
        "    Doc:  Another random number generator that work on the gpu\n",
        "    Value:  False\n",
        "\n",
        "numpy.seterr_all (('ignore', 'warn', 'raise', 'call', 'print', 'log', 'None')) \n",
        "    Doc:  (\"Sets numpy's behaviour for floating-point errors, \", \"see numpy.seterr. 'None' means not to change numpy's default, which can be different for different numpy releases. This flag sets the default behaviour for all kinds of floating-point errors, its effect can be overriden for specific errors by the following flags: seterr_divide, seterr_over, seterr_under and seterr_invalid.\")\n",
        "    Value:  ignore\n",
        "\n",
        "numpy.seterr_divide (('None', 'ignore', 'warn', 'raise', 'call', 'print', 'log')) \n",
        "    Doc:  Sets numpy's behavior for division by zero, see numpy.seterr. 'None' means using the default, defined by numpy.seterr_all.\n",
        "    Value:  None\n",
        "\n",
        "numpy.seterr_over (('None', 'ignore', 'warn', 'raise', 'call', 'print', 'log')) \n",
        "    Doc:  Sets numpy's behavior for floating-point overflow, see numpy.seterr. 'None' means using the default, defined by numpy.seterr_all.\n",
        "    Value:  None\n",
        "\n",
        "numpy.seterr_under (('None', 'ignore', 'warn', 'raise', 'call', 'print', 'log')) \n",
        "    Doc:  Sets numpy's behavior for floating-point underflow, see numpy.seterr. 'None' means using the default, defined by numpy.seterr_all.\n",
        "    Value:  None\n",
        "\n",
        "numpy.seterr_invalid (('None', 'ignore', 'warn', 'raise', 'call', 'print', 'log')) \n",
        "    Doc:  Sets numpy's behavior for invalid floating-point operation, see numpy.seterr. 'None' means using the default, defined by numpy.seterr_all.\n",
        "    Value:  None\n",
        "\n",
        "warn.ignore_bug_before (('0.5', 'None', 'all', '0.3', '0.4', '0.4.1', '0.6')) \n",
        "    Doc:  If 'None', we warn about all Theano bugs found by default. If 'all', we don't warn about Theano bugs found by default. If a version, we print only the warnings relative to Theano bugs found after that version. Warning for specific bugs can be configured with specific [warn] flags.\n",
        "    Value:  0.5\n",
        "\n",
        "warn.argmax_pushdown_bug (<function booltype at 0x7f937774e230>) \n",
        "    Doc:  Warn if in past version of Theano we generated a bug with the theano.tensor.nnet.nnet.local_argmax_pushdown optimization. Was fixed 27 may 2010\n",
        "    Value:  False\n",
        "\n",
        "warn.gpusum_01_011_0111_bug (<function booltype at 0x7f937774e398>) \n",
        "    Doc:  Warn if we are in a case where old version of Theano had a silent bug with GpuSum pattern 01,011 and 0111 when the first dimensions was bigger then 4096. Was fixed 31 may 2010\n",
        "    Value:  False\n",
        "\n",
        "warn.sum_sum_bug (<function booltype at 0x7f937774e500>) \n",
        "    Doc:  Warn if we are in a case where Theano version between version 9923a40c7b7a and the 2 august 2010 (fixed date), generated an error in that case. This happens when there are 2 consecutive sums in the graph, bad code was generated. Was fixed 2 August 2010\n",
        "    Value:  False\n",
        "\n",
        "warn.sum_div_dimshuffle_bug (<function booltype at 0x7f937774e668>) \n",
        "    Doc:  Warn if previous versions of Theano (between rev. 3bd9b789f5e8, 2010-06-16, and cfc6322e5ad4, 2010-08-03) would have given incorrect result. This bug was triggered by sum of division of dimshuffled tensors.\n",
        "    Value:  False\n",
        "\n",
        "warn.subtensor_merge_bug (<function booltype at 0x7f937774e7d0>) \n",
        "    Doc:  Warn if previous versions of Theano (before 0.5rc2) could have given incorrect results when indexing into a subtensor with negative stride (for instance, for instance, x[a:b:-1][c]).\n",
        "    Value:  False\n",
        "\n",
        "warn.gpu_set_subtensor1 (<function booltype at 0x7f937774e938>) \n",
        "    Doc:  Warn if previous versions of Theano (before 0.6) could have given incorrect results when moving to the gpu set_subtensor(x[int vector], new_value)\n",
        "    Value:  True\n",
        "\n",
        "warn.vm_gc_bug (<function booltype at 0x7f937774eaa0>) \n",
        "    Doc:  There was a bug that existed in the default Theano configuration, only in the development version between July 5th 2012 and July 30th 2012. This was not in a released version. If your code was affected by this bug, a warning will be printed during the code execution if you use the `linker=vm,vm.lazy=True,warn.vm_gc_bug=True` Theano flags. This warning is disabled by default as the bug was not released.\n",
        "    Value:  False\n",
        "\n",
        "compute_test_value (('off', 'ignore', 'warn', 'raise', 'pdb')) \n",
        "    Doc:  If 'True', Theano will run each op at graph build time, using Constants, SharedVariables and the tag 'test_value' as inputs to the function. This helps the user track down problems in the graph before it gets optimized.\n",
        "    Value:  off\n",
        "\n",
        "compute_test_value_opt (('off', 'ignore', 'warn', 'raise', 'pdb')) \n",
        "    Doc:  For debugging Theano optimization only. Same as compute_test_value, but is used during Theano optimization\n",
        "    Value:  off\n",
        "\n",
        "exception_verbosity (('low', 'high')) \n",
        "    Doc:  If 'low', the text of exceptions will generally refer to apply nodes with short names such as Elemwise{add_no_inplace}. If 'high', some exceptions will also refer to apply nodes with long descriptions  like:\n",
        "        A. Elemwise{add_no_inplace}\n",
        "                B. log_likelihood_v_given_h\n",
        "                C. log_likelihood_h\n",
        "    Value:  low\n",
        "\n",
        "openmp (<function booltype at 0x7f937774ed70>) \n",
        "    Doc:  Allow (or not) parallel computation on the CPU with OpenMP. This is the default value used when creating an Op that supports OpenMP parallelization. It is preferable to define it via the Theano configuration file ~/.theanorc or with the environment variable THEANO_FLAGS. Parallelization is only done for some operations that implement it, and even for operations that implement parallelism, each operation is free to respect this flag or not. You can control the number of threads used with the environment variable OMP_NUM_THREADS. If it is set to 1, we disable openmp in Theano by default.\n",
        "    Value:  False\n",
        "\n",
        "gcc.cxxflags (<type 'str'>) \n",
        "    Doc:  Extra compiler flags for gcc\n",
        "    Value:  \n",
        "\n",
        "compiledir_format (<type 'str'>) \n",
        "    Doc:  Format string for platform-dependent compiled module subdirectory\n",
        "(relative to base_compiledir). Available keys: gxx_version, hostname,\n",
        "numpy_version, platform, processor, python_bitwidth,\n",
        "python_int_bitwidth, python_version, theano_version. Defaults to 'comp\n",
        "iledir_%(platform)s-%(processor)s-%(python_version)s-%(python_bitwidth\n",
        ")s'.\n",
        "    Value:  compiledir_%(platform)s-%(processor)s-%(python_version)s-%(python_bitwidth)s\n",
        "\n",
        "<theano.configparser.ConfigParam object at 0x7f937768e110>\n",
        "    Doc:  platform-independent root directory for compiled modules\n",
        "    Value:  /home/kotfic/.theano\n",
        "\n",
        "<theano.configparser.ConfigParam object at 0x7f937768e210>\n",
        "    Doc:  platform-dependent cache directory for compiled modules\n",
        "    Value:  /home/kotfic/.theano/compiledir_Linux-3.17.6-1-ARCH-x86_64-with-glibc2.2.5--2.7.8-64\n",
        "\n",
        "cmodule.mac_framework_link (<function booltype at 0x7f9377689f50>) \n",
        "    Doc:  If set to True, breaks certain MacOS installations with the infamous Bus Error\n",
        "    Value:  False\n",
        "\n",
        "cmodule.warn_no_version (<function booltype at 0x7f9377694140>) \n",
        "    Doc:  If True, will print a warning when compiling one or more Op with C code that can't be cached because there is no c_code_cache_version() function associated to at least one of those Ops.\n",
        "    Value:  False\n",
        "\n",
        "cmodule.remove_gxx_opt (<function booltype at 0x7f93776942a8>) \n",
        "    Doc:  If True, will remove the -O* parameter passed to g++.This is useful to debug in gdb modules compiled by Theano.The parameter -g is passed by default to g++\n",
        "    Value:  False\n",
        "\n",
        "cmodule.compilation_warning (<function booltype at 0x7f9377694410>) \n",
        "    Doc:  If True, will print compilation warnings.\n",
        "    Value:  False\n",
        "\n",
        "optdb.position_cutoff (<type 'float'>) \n",
        "    Doc:  Where to stop eariler during optimization. It represent the position of the optimizer where to stop.\n",
        "    Value:  inf\n",
        "\n",
        "optdb.max_use_ratio (<type 'float'>) \n",
        "    Doc:  A ratio that prevent infinite loop in EquilibriumOptimizer.\n",
        "    Value:  5.0\n",
        "\n",
        "profile (<function booltype at 0x7f9377611500>) \n",
        "    Doc:  If VM should collect profile information\n",
        "    Value:  False\n",
        "\n",
        "profile_optimizer (<function booltype at 0x7f9377611668>) \n",
        "    Doc:  If VM should collect optimizer profile information\n",
        "    Value:  False\n",
        "\n",
        "profile_memory (<function booltype at 0x7f93776117d0>) \n",
        "    Doc:  If VM should collect memory profile information and print it\n",
        "    Value:  False\n",
        "\n",
        "<theano.configparser.ConfigParam object at 0x7f9377606dd0>\n",
        "    Doc:  Useful only for the vm linkers. When lazy is None, auto detect if lazy evaluation is needed and use the apropriate version. If lazy is True/False, force the version used between Loop/LoopGC and Stack.\n",
        "    Value:  None\n",
        "\n",
        "optimizer_excluding (<type 'str'>) \n",
        "    Doc:  When using the default mode, we will remove optimizer with these tags. Separate tags with ':'.\n",
        "    Value:  \n",
        "\n",
        "optimizer_including (<type 'str'>) \n",
        "    Doc:  When using the default mode, we will add optimizer with these tags. Separate tags with ':'.\n",
        "    Value:  \n",
        "\n",
        "optimizer_requiring (<type 'str'>) \n",
        "    Doc:  When using the default mode, we will require optimizer with these tags. Separate tags with ':'.\n",
        "    Value:  \n",
        "\n",
        "DebugMode.patience (<type 'int'>) \n",
        "    Doc:  Optimize graph this many times to detect inconsistency\n",
        "    Value:  10\n",
        "\n",
        "DebugMode.check_c (<function booltype at 0x7f93773e3c80>) \n",
        "    Doc:  Run C implementations where possible\n",
        "    Value:  True\n",
        "\n",
        "DebugMode.check_py (<function booltype at 0x7f93773e3de8>) \n",
        "    Doc:  Run Python implementations where possible\n",
        "    Value:  True\n",
        "\n",
        "DebugMode.check_finite (<function booltype at 0x7f93773e3f50>) \n",
        "    Doc:  True -> complain about NaN/Inf results\n",
        "    Value:  True\n",
        "\n",
        "DebugMode.check_strides (<type 'int'>) \n",
        "    Doc:  Check that Python- and C-produced ndarrays have same strides.  On difference: (0) - ignore, (1) warn, or (2) raise error\n",
        "    Value:  1\n",
        "\n",
        "DebugMode.warn_input_not_reused (<function booltype at 0x7f937737a230>) \n",
        "    Doc:  Generate a warning when destroy_map or view_map says that an op works inplace, but the op did not reuse the input for its output.\n",
        "    Value:  True\n",
        "\n",
        "DebugMode.check_preallocated_output (<type 'str'>) \n",
        "    Doc:  Test thunks with pre-allocated memory as output storage. This is a list of strings separated by \":\". Valid values are: \"initial\" (initial storage in storage map, happens with Scan),\"previous\" (previously-returned memory), \"c_contiguous\", \"f_contiguous\", \"strided\" (positive and negative strides), \"wrong_size\" (larger and smaller dimensions), and \"ALL\" (all of the above).\n",
        "    Value:  \n",
        "\n",
        "DebugMode.check_preallocated_output_ndim (<type 'int'>) \n",
        "    Doc:  When testing with \"strided\" preallocated output memory, test all combinations of strides over that number of (inner-most) dimensions. You may want to reduce that number to reduce memory or time usage, but it is advised to keep a minimum of 2.\n",
        "    Value:  4\n",
        "\n",
        "profiling.time_thunks (<function booltype at 0x7f937738a488>) \n",
        "    Doc:  Time individual thunks when profiling\n",
        "    Value:  True\n",
        "\n",
        "profiling.n_apply (<type 'int'>) \n",
        "    Doc:  Number of Apply instances to print by default\n",
        "    Value:  20\n",
        "\n",
        "profiling.n_ops (<type 'int'>) \n",
        "    Doc:  Number of Ops to print by default\n",
        "    Value:  20\n",
        "\n",
        "profiling.min_memory_size (<type 'int'>) \n",
        "    Doc:  For the memory profile, do not print Apply nodes if the size\n",
        "             of their outputs (in bytes) is lower than this threshold\n",
        "    Value:  1024\n",
        "\n",
        "ProfileMode.n_apply_to_print (<type 'int'>) \n",
        "    Doc:  Number of apply instances to print by default\n",
        "    Value:  15\n",
        "\n",
        "ProfileMode.n_ops_to_print (<type 'int'>) \n",
        "    Doc:  Number of ops to print by default\n",
        "    Value:  20\n",
        "\n",
        "ProfileMode.min_memory_size (<type 'int'>) \n",
        "    Doc:  For the memory profile, do not print apply nodes if the size\n",
        " of their outputs (in bytes) is lower then this threshold\n",
        "    Value:  1024\n",
        "\n",
        "ProfileMode.profile_memory (<function booltype at 0x7f9377395410>) \n",
        "    Doc:  Enable profiling of memory used by Theano functions\n",
        "    Value:  False\n",
        "\n",
        "on_shape_error (('warn', 'raise')) \n",
        "    Doc:  warn: print a warning and use the default value. raise: raise an error\n",
        "    Value:  warn\n",
        "\n",
        "tensor.insert_inplace_optimizer_validate_nb (<type 'int'>) \n",
        "    Doc:  -1: auto, if graph have less then 500 nodes 1, else 10\n",
        "    Value:  -1\n",
        "\n",
        "experimental.local_alloc_elemwise (<function booltype at 0x7f9371bb35f0>) \n",
        "    Doc:  If True enable the experimental optimization local_alloc_elemwise\n",
        "    Value:  False\n",
        "\n",
        "experimental.local_alloc_elemwise_assert (<function booltype at 0x7f9371bb67d0>) \n",
        "    Doc:  If False enable the experimental optimization local_alloc_elemwise but WITHOUT assert into the graph!\n",
        "    Value:  True\n",
        "\n",
        "blas.ldflags (<type 'str'>) \n",
        "    Doc:  lib[s] to include for [Fortran] level-3 blas implementation\n",
        "    Value:  -L/usr/lib64 -lblas\n",
        "\n",
        "warn.identify_1pexp_bug (<function booltype at 0x7f9371ab30c8>) \n",
        "    Doc:  Warn if Theano versions prior to 7987b51 (2011-12-18) could have yielded a wrong result due to a bug in the is_1pexp function\n",
        "    Value:  False\n",
        "\n",
        "unittests.rseed (<type 'str'>) \n",
        "    Doc:  Seed to use for randomized unit tests. Special value 'random' means using a seed of None.\n",
        "    Value:  666\n",
        "\n",
        "\n"
       ]
      }
     ],
     "prompt_number": 177
    },
    {
     "cell_type": "code",
     "collapsed": false,
     "input": [],
     "language": "python",
     "metadata": {},
     "outputs": []
    }
   ],
   "metadata": {}
  }
 ]
}