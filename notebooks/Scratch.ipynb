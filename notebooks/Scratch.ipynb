{
 "metadata": {
  "name": "",
  "signature": "sha256:169a5ca40ee7e3c28f4333e0b6be2ab8448b3c2f46d1367e5679ccab47118e32"
 },
 "nbformat": 3,
 "nbformat_minor": 0,
 "worksheets": [
  {
   "cells": [
    {
     "cell_type": "code",
     "collapsed": false,
     "input": [],
     "language": "python",
     "metadata": {},
     "outputs": []
    }
   ],
   "metadata": {}
  }
 ]
}